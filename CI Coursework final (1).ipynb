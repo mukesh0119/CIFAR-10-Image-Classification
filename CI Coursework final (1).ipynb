{
 "cells": [
  {
   "cell_type": "markdown",
   "id": "e52c272e",
   "metadata": {},
   "source": [
    "### Importing libraries"
   ]
  },
  {
   "cell_type": "code",
   "execution_count": 1,
   "id": "bca2e406",
   "metadata": {},
   "outputs": [],
   "source": [
    "%matplotlib inline"
   ]
  },
  {
   "cell_type": "code",
   "execution_count": 1,
   "id": "5693e944",
   "metadata": {},
   "outputs": [],
   "source": [
    "import numpy as np\n",
    "import tensorflow\n",
    "import torch\n",
    "import tarfile\n",
    "from PIL import Image\n",
    "from numpy import argmax\n",
    "import tensorflow as tf\n",
    "from tensorflow.keras import datasets, layers, models\n",
    "from matplotlib import pyplot as plt\n",
    "from sklearn.metrics import confusion_matrix , classification_report\n",
    "from keras.utils import np_utils\n",
    "from tensorflow.keras import datasets, layers, models\n",
    "from keras.layers import Dense, Dropout, Conv2D, MaxPool2D, Flatten\n",
    "from os.path import isfile, isdir\n",
    "from tqdm import tqdm \n",
    "from pathlib import Path\n",
    "import pandas as pd\n",
    "import io\n",
    "import torch\n",
    "import torchvision\n",
    "import torchvision.transforms as transforms\n",
    "from torch.utils.data.sampler import SubsetRandomSampler\n",
    "from torch.utils.data.dataloader import DataLoader\n"
   ]
  },
  {
   "cell_type": "code",
   "execution_count": 2,
   "id": "b52f62c5",
   "metadata": {},
   "outputs": [],
   "source": [
    "import pickle\n",
    "import numpy as np\n",
    "import matplotlib.pyplot as plt\n",
    "from tensorflow.keras.utils import to_categorical"
   ]
  },
  {
   "cell_type": "code",
   "execution_count": 3,
   "id": "fba903b0",
   "metadata": {},
   "outputs": [],
   "source": [
    "cifar10_dataset_folder_path = 'cifar-10-batches-py'\n",
    "\n",
    "class DownloadProgress(tqdm):\n",
    "    last_block = 0\n",
    "\n",
    "    def hook(self, block_num=1, block_size=1, total_size=None):\n",
    "        self.total = total_size\n",
    "        self.update((block_num - self.last_block) * block_size)\n",
    "        self.last_block = block_num\n"
   ]
  },
  {
   "cell_type": "code",
   "execution_count": 4,
   "id": "697daf4f",
   "metadata": {},
   "outputs": [],
   "source": [
    "def load_cfar10_batch(cifar10_dataset_folder_path, batch_id):\n",
    "    with open(cifar10_dataset_folder_path + '/data_batch_' + str(batch_id), mode='rb') as file:\n",
    "        batch = pickle.load(file, encoding='latin1')\n",
    "        \n",
    "    features = batch['data'].reshape((len(batch['data']), 3, 32, 32)).transpose(0, 2, 3, 1)\n",
    "    labels = batch['labels']\n",
    "        \n",
    "    return features, labels\n",
    "\n",
    "\n",
    "def unpickle(file):\n",
    "    import pickle\n",
    "    with open(file, 'rb') as fo:\n",
    "        dict = pickle.load(fo, encoding='bytes')\n",
    "        return dict\n"
   ]
  },
  {
   "cell_type": "code",
   "execution_count": 5,
   "id": "b2abbcb1",
   "metadata": {},
   "outputs": [
    {
     "data": {
      "text/plain": [
       "dict_keys([b'batch_label', b'labels', b'data', b'filenames'])"
      ]
     },
     "execution_count": 5,
     "metadata": {},
     "output_type": "execute_result"
    }
   ],
   "source": [
    "data1=unpickle(\"data_batch_1\")\n",
    "data2=unpickle(\"data_batch_2\")\n",
    "data3=unpickle(\"data_batch_3\")\n",
    "data4=unpickle(\"data_batch_4\")\n",
    "data5=unpickle(\"data_batch_5\")\n",
    "test=unpickle(\"test_batch\")\n",
    "\n",
    "data1.keys()"
   ]
  },
  {
   "cell_type": "code",
   "execution_count": 6,
   "id": "b486f426",
   "metadata": {},
   "outputs": [],
   "source": [
    "x_data1=data1[b'data']\n",
    "x_data2=data2[b'data']\n",
    "x_data3=data3[b'data']\n",
    "x_data4=data4[b'data']\n",
    "x_data5=data5[b'data']\n",
    "\n",
    "y_data1=data1[b'labels']\n",
    "y_data2=data2[b'labels']\n",
    "y_data3=data3[b'labels']\n",
    "y_data4=data4[b'labels']\n",
    "y_data5=data5[b'labels']"
   ]
  },
  {
   "cell_type": "markdown",
   "id": "d554ae9f",
   "metadata": {},
   "source": [
    "### Concatenating all the datasets together"
   ]
  },
  {
   "cell_type": "code",
   "execution_count": 7,
   "id": "792b6752",
   "metadata": {},
   "outputs": [
    {
     "name": "stdout",
     "output_type": "stream",
     "text": [
      "length of training set: 50000\n"
     ]
    }
   ],
   "source": [
    "x_train=np.concatenate((x_data1,x_data2,x_data3,x_data4,x_data5),axis=0)\n",
    "y_train=np.concatenate((y_data1,y_data2,y_data3,y_data4,y_data5),axis=0)\n",
    "\n",
    "print('length of training set: ' + str(len(y_train)))"
   ]
  },
  {
   "cell_type": "code",
   "execution_count": 8,
   "id": "93c56447",
   "metadata": {},
   "outputs": [],
   "source": [
    "X_train=x_train.reshape(len(x_train),3,32,32).transpose(0,2,3,1)\n",
    "y_train=to_categorical(y_train,10)"
   ]
  },
  {
   "cell_type": "markdown",
   "id": "8fc557b6",
   "metadata": {},
   "source": [
    "#### Loading the test dataset:"
   ]
  },
  {
   "cell_type": "code",
   "execution_count": 9,
   "id": "4f9a7008",
   "metadata": {},
   "outputs": [],
   "source": [
    "test=unpickle('test_batch')\n",
    "X_test=test[b'data'].reshape(len(test[b'data']),3,32,32).transpose(0,2,3,1)\n",
    "y_test=to_categorical(test[b'labels'],10)"
   ]
  },
  {
   "cell_type": "code",
   "execution_count": 10,
   "id": "904b11e0",
   "metadata": {},
   "outputs": [],
   "source": [
    "def classes():\n",
    "    return ['airplane', 'automobile', 'bird', 'cat', 'deer', 'dog', 'frog', 'horse', 'ship', 'truck']"
   ]
  },
  {
   "cell_type": "markdown",
   "id": "09cf9f9c",
   "metadata": {},
   "source": [
    "### dataset characteristics of data sets"
   ]
  },
  {
   "cell_type": "markdown",
   "id": "8fdd0e5a",
   "metadata": {},
   "source": [
    "### shape of a single image :"
   ]
  },
  {
   "cell_type": "code",
   "execution_count": 12,
   "id": "06f2571b",
   "metadata": {
    "scrolled": true
   },
   "outputs": [
    {
     "name": "stdout",
     "output_type": "stream",
     "text": [
      "(32, 32, 3)\n"
     ]
    }
   ],
   "source": [
    "print(X_train[0].shape)"
   ]
  },
  {
   "cell_type": "markdown",
   "id": "561c288a",
   "metadata": {},
   "source": [
    "### plotting the train images"
   ]
  },
  {
   "cell_type": "code",
   "execution_count": 13,
   "id": "f050a57d",
   "metadata": {
    "scrolled": true
   },
   "outputs": [
    {
     "data": {
      "image/png": "[encoded data removed]",
      "text/plain": [
       "<Figure size 640x480 with 9 Axes>"
      ]
     },
     "metadata": {},
     "output_type": "display_data"
    }
   ],
   "source": [
    "for i in range (0,9):\n",
    "    plt.subplot(330+1+i)\n",
    "    itrain = X_train[i]\n",
    "    plt.imshow(itrain)"
   ]
  },
  {
   "cell_type": "markdown",
   "id": "70a6e568",
   "metadata": {},
   "source": [
    "### plotting test images"
   ]
  },
  {
   "cell_type": "code",
   "execution_count": 14,
   "id": "15259956",
   "metadata": {
    "scrolled": true
   },
   "outputs": [
    {
     "data": {
      "image/png": "[encoded data removed]",
      "text/plain": [
       "<Figure size 640x480 with 9 Axes>"
      ]
     },
     "metadata": {},
     "output_type": "display_data"
    }
   ],
   "source": [
    "for i in range (0,9):\n",
    "    plt.subplot(330+1+i)\n",
    "    itest = X_test[i]\n",
    "    plt.imshow(itest)"
   ]
  },
  {
   "cell_type": "markdown",
   "id": "d70977ad",
   "metadata": {},
   "source": [
    "## Preprocessing "
   ]
  },
  {
   "cell_type": "markdown",
   "id": "8a80c2f9",
   "metadata": {},
   "source": [
    "### Normalizing"
   ]
  },
  {
   "cell_type": "code",
   "execution_count": 15,
   "id": "94c377ca",
   "metadata": {},
   "outputs": [],
   "source": [
    "X_train = X_train.reshape(X_train.shape[0], 32, 32, 3)\n",
    "X_test = X_test.reshape(X_test.shape[0], 32, 32, 3)\n",
    "X_train = X_train.astype('float32') \n",
    "X_test = X_test.astype('float32')"
   ]
  },
  {
   "cell_type": "code",
   "execution_count": 16,
   "id": "2c03ec2d",
   "metadata": {},
   "outputs": [],
   "source": [
    "nor=255.0"
   ]
  },
  {
   "cell_type": "code",
   "execution_count": 17,
   "id": "f39ed3fb",
   "metadata": {},
   "outputs": [],
   "source": [
    "X_train /= nor\n",
    "X_test /= nor "
   ]
  },
  {
   "cell_type": "code",
   "execution_count": 18,
   "id": "99485169",
   "metadata": {},
   "outputs": [
    {
     "name": "stdout",
     "output_type": "stream",
     "text": [
      "[[[0.23137255 0.24313726 0.24705882]\n",
      "  [0.16862746 0.18039216 0.1764706 ]\n",
      "  [0.19607843 0.1882353  0.16862746]\n",
      "  ...\n",
      "  [0.61960787 0.5176471  0.42352942]\n",
      "  [0.59607846 0.49019608 0.4       ]\n",
      "  [0.5803922  0.4862745  0.40392157]]\n",
      "\n",
      " [[0.0627451  0.07843138 0.07843138]\n",
      "  [0.         0.         0.        ]\n",
      "  [0.07058824 0.03137255 0.        ]\n",
      "  ...\n",
      "  [0.48235294 0.34509805 0.21568628]\n",
      "  [0.46666667 0.3254902  0.19607843]\n",
      "  [0.47843137 0.34117648 0.22352941]]\n",
      "\n",
      " [[0.09803922 0.09411765 0.08235294]\n",
      "  [0.0627451  0.02745098 0.        ]\n",
      "  [0.19215687 0.10588235 0.03137255]\n",
      "  ...\n",
      "  [0.4627451  0.32941177 0.19607843]\n",
      "  [0.47058824 0.32941177 0.19607843]\n",
      "  [0.42745098 0.28627452 0.16470589]]\n",
      "\n",
      " ...\n",
      "\n",
      " [[0.8156863  0.6666667  0.3764706 ]\n",
      "  [0.7882353  0.6        0.13333334]\n",
      "  [0.7764706  0.6313726  0.10196079]\n",
      "  ...\n",
      "  [0.627451   0.52156866 0.27450982]\n",
      "  [0.21960784 0.12156863 0.02745098]\n",
      "  [0.20784314 0.13333334 0.07843138]]\n",
      "\n",
      " [[0.7058824  0.54509807 0.3764706 ]\n",
      "  [0.6784314  0.48235294 0.16470589]\n",
      "  [0.7294118  0.5647059  0.11764706]\n",
      "  ...\n",
      "  [0.72156864 0.5803922  0.36862746]\n",
      "  [0.38039216 0.24313726 0.13333334]\n",
      "  [0.3254902  0.20784314 0.13333334]]\n",
      "\n",
      " [[0.69411767 0.5647059  0.45490196]\n",
      "  [0.65882355 0.5058824  0.36862746]\n",
      "  [0.7019608  0.5568628  0.34117648]\n",
      "  ...\n",
      "  [0.84705883 0.72156864 0.54901963]\n",
      "  [0.5921569  0.4627451  0.32941177]\n",
      "  [0.48235294 0.36078432 0.28235295]]]\n"
     ]
    }
   ],
   "source": [
    "print(X_train[0])"
   ]
  },
  {
   "cell_type": "markdown",
   "id": "7c8ac352",
   "metadata": {},
   "source": [
    "### class labels shape"
   ]
  },
  {
   "cell_type": "code",
   "execution_count": 19,
   "id": "352b144d",
   "metadata": {},
   "outputs": [],
   "source": [
    "numCls=10"
   ]
  },
  {
   "cell_type": "markdown",
   "id": "dfbc0179",
   "metadata": {},
   "source": [
    "# SGD ## Gradient Descent"
   ]
  },
  {
   "cell_type": "code",
   "execution_count": 20,
   "id": "b9e426de",
   "metadata": {},
   "outputs": [],
   "source": [
    "ks = (3,3)\n",
    "st = (1,1)\n",
    "ish = (32,32,3)\n",
    "act = 'relu'\n",
    "pad = 'same'\n",
    "ps = (2,2)"
   ]
  },
  {
   "cell_type": "code",
   "execution_count": 21,
   "id": "ce5ab057",
   "metadata": {},
   "outputs": [],
   "source": [
    "from hyperactive import Hyperactive\n",
    "from hyperactive.optimizers import ParticleSwarmOptimizer\n",
    "from keras.models import Sequential\n",
    "from sklearn.neighbors import KNeighborsClassifier\n",
    "from keras.layers import (\n",
    "    Dense,\n",
    "    Conv2D,\n",
    "    MaxPooling2D,\n",
    "    Flatten,\n",
    "    Dropout,\n",
    "    Activation,\n",
    ")\n",
    "from tensorflow.keras import optimizers\n",
    "from keras.optimizers import SGD"
   ]
  },
  {
   "cell_type": "code",
   "execution_count": 22,
   "id": "0db570cf",
   "metadata": {},
   "outputs": [
    {
     "name": "stdout",
     "output_type": "stream",
     "text": [
      "Metal device set to: Apple M2\n"
     ]
    },
    {
     "name": "stderr",
     "output_type": "stream",
     "text": [
      "2022-12-07 12:12:16.971537: I tensorflow/core/common_runtime/pluggable_device/pluggable_device_factory.cc:306] Could not identify NUMA node of platform GPU ID 0, defaulting to 0. Your kernel may not have been built with NUMA support.\n",
      "2022-12-07 12:12:16.971842: I tensorflow/core/common_runtime/pluggable_device/pluggable_device_factory.cc:272] Created TensorFlow device (/job:localhost/replica:0/task:0/device:GPU:0 with 0 MB memory) -> physical PluggableDevice (device: 0, name: METAL, pci bus id: <undefined>)\n",
      "/Users/mukesh/opt/miniconda3/envs/tensorflow/lib/python3.9/site-packages/keras/optimizers/optimizer_v2/gradient_descent.py:111: UserWarning: The `lr` argument is deprecated, use `learning_rate` instead.\n",
      "  super().__init__(name, **kwargs)\n"
     ]
    }
   ],
   "source": [
    "sgd =Sequential() \n",
    "sgd.add(Conv2D(50, (3, 3), strides=st, padding=pad, input_shape=ish))\n",
    "sgd.add(Activation(\"relu\"))\n",
    "    \n",
    "sgd.add(Conv2D(125, (3, 3), strides=st, padding=pad, activation=act))\n",
    "sgd.add(MaxPool2D(pool_size=ps))\n",
    "sgd.add(Dropout(0.25))\n",
    "    \n",
    "sgd.add(Conv2D(125, (3, 3), strides=st, padding=pad, activation=act))\n",
    "sgd.add(MaxPool2D(pool_size=ps))\n",
    "sgd.add(Dropout(0.25))\n",
    "    \n",
    "sgd.add(Flatten(input_shape=ish))\n",
    "sgd.add(Dense(500, act))\n",
    "sgd.add(Dropout(0.5))\n",
    "sgd.add(Dense(250, act))\n",
    "sgd.add(Dropout(0.5))\n",
    "sgd.add(Dense(10, activation='softmax'))\n",
    "opt = SGD(lr=0.001, momentum=0.9)"
   ]
  },
  {
   "cell_type": "code",
   "execution_count": 23,
   "id": "be26e1f3",
   "metadata": {},
   "outputs": [
    {
     "name": "stdout",
     "output_type": "stream",
     "text": [
      "Epoch 1/50\n"
     ]
    },
    {
     "name": "stderr",
     "output_type": "stream",
     "text": [
      "2022-12-07 12:12:18.033779: W tensorflow/core/platform/profile_utils/cpu_utils.cc:128] Failed to get CPU frequency: 0 Hz\n",
      "2022-12-07 12:12:18.284781: I tensorflow/core/grappler/optimizers/custom_graph_optimizer_registry.cc:114] Plugin optimizer for device_type GPU is enabled.\n"
     ]
    },
    {
     "name": "stdout",
     "output_type": "stream",
     "text": [
      "391/391 [==============================] - 26s 66ms/step - loss: 2.2812 - accuracy: 0.1391\n",
      "Epoch 2/50\n",
      "391/391 [==============================] - 27s 70ms/step - loss: 2.1023 - accuracy: 0.2202\n",
      "Epoch 3/50\n",
      "391/391 [==============================] - 28s 71ms/step - loss: 1.9762 - accuracy: 0.2788\n",
      "Epoch 4/50\n",
      "391/391 [==============================] - 27s 68ms/step - loss: 1.8599 - accuracy: 0.3357\n",
      "Epoch 5/50\n",
      "391/391 [==============================] - 26s 66ms/step - loss: 1.7402 - accuracy: 0.3763\n",
      "Epoch 6/50\n",
      "391/391 [==============================] - 26s 67ms/step - loss: 1.6589 - accuracy: 0.3995\n",
      "Epoch 7/50\n",
      "391/391 [==============================] - 27s 68ms/step - loss: 1.6014 - accuracy: 0.4219\n",
      "Epoch 8/50\n",
      "391/391 [==============================] - 27s 69ms/step - loss: 1.5537 - accuracy: 0.4357\n",
      "Epoch 9/50\n",
      "391/391 [==============================] - 27s 70ms/step - loss: 1.5087 - accuracy: 0.4556\n",
      "Epoch 10/50\n",
      "391/391 [==============================] - 28s 71ms/step - loss: 1.4687 - accuracy: 0.4661\n",
      "Epoch 11/50\n",
      "391/391 [==============================] - 28s 71ms/step - loss: 1.4218 - accuracy: 0.4866\n",
      "Epoch 12/50\n",
      "391/391 [==============================] - 27s 69ms/step - loss: 1.3806 - accuracy: 0.5031\n",
      "Epoch 13/50\n",
      "391/391 [==============================] - 26s 67ms/step - loss: 1.3406 - accuracy: 0.5160\n",
      "Epoch 14/50\n",
      "391/391 [==============================] - 26s 67ms/step - loss: 1.3097 - accuracy: 0.5272\n",
      "Epoch 15/50\n",
      "391/391 [==============================] - 27s 69ms/step - loss: 1.2772 - accuracy: 0.5417\n",
      "Epoch 16/50\n",
      "391/391 [==============================] - 27s 70ms/step - loss: 1.2521 - accuracy: 0.5497\n",
      "Epoch 17/50\n",
      "391/391 [==============================] - 28s 71ms/step - loss: 1.2186 - accuracy: 0.5629\n",
      "Epoch 18/50\n",
      "391/391 [==============================] - 28s 71ms/step - loss: 1.1859 - accuracy: 0.5751\n",
      "Epoch 19/50\n",
      "391/391 [==============================] - 28s 71ms/step - loss: 1.1647 - accuracy: 0.5815\n",
      "Epoch 20/50\n",
      "391/391 [==============================] - 27s 70ms/step - loss: 1.1391 - accuracy: 0.5937\n",
      "Epoch 21/50\n",
      "391/391 [==============================] - 27s 69ms/step - loss: 1.1089 - accuracy: 0.6047\n",
      "Epoch 22/50\n",
      "391/391 [==============================] - 27s 69ms/step - loss: 1.0842 - accuracy: 0.6125\n",
      "Epoch 23/50\n",
      "391/391 [==============================] - 27s 69ms/step - loss: 1.0603 - accuracy: 0.6229\n",
      "Epoch 24/50\n",
      "391/391 [==============================] - 27s 70ms/step - loss: 1.0373 - accuracy: 0.6316\n",
      "Epoch 25/50\n",
      "391/391 [==============================] - 28s 71ms/step - loss: 1.0151 - accuracy: 0.6408\n",
      "Epoch 26/50\n",
      "391/391 [==============================] - 28s 71ms/step - loss: 0.9930 - accuracy: 0.6473\n",
      "Epoch 27/50\n",
      "391/391 [==============================] - 27s 70ms/step - loss: 0.9782 - accuracy: 0.6523\n",
      "Epoch 28/50\n",
      "391/391 [==============================] - 27s 70ms/step - loss: 0.9625 - accuracy: 0.6586\n",
      "Epoch 29/50\n",
      "391/391 [==============================] - 27s 70ms/step - loss: 0.9416 - accuracy: 0.6659\n",
      "Epoch 30/50\n",
      "391/391 [==============================] - 27s 70ms/step - loss: 0.9298 - accuracy: 0.6717\n",
      "Epoch 31/50\n",
      "391/391 [==============================] - 28s 73ms/step - loss: 0.9081 - accuracy: 0.6799\n",
      "Epoch 32/50\n",
      "391/391 [==============================] - 28s 73ms/step - loss: 0.8977 - accuracy: 0.6830\n",
      "Epoch 33/50\n",
      "391/391 [==============================] - 28s 71ms/step - loss: 0.8832 - accuracy: 0.6900\n",
      "Epoch 34/50\n",
      "391/391 [==============================] - 28s 71ms/step - loss: 0.8703 - accuracy: 0.6923\n",
      "Epoch 35/50\n",
      "391/391 [==============================] - 27s 70ms/step - loss: 0.8586 - accuracy: 0.6982\n",
      "Epoch 36/50\n",
      "391/391 [==============================] - 28s 71ms/step - loss: 0.8438 - accuracy: 0.7030\n",
      "Epoch 37/50\n",
      "391/391 [==============================] - 28s 72ms/step - loss: 0.8328 - accuracy: 0.7056\n",
      "Epoch 38/50\n",
      "391/391 [==============================] - 28s 73ms/step - loss: 0.8190 - accuracy: 0.7124\n",
      "Epoch 39/50\n",
      "391/391 [==============================] - 29s 73ms/step - loss: 0.8077 - accuracy: 0.7163\n",
      "Epoch 40/50\n",
      "391/391 [==============================] - 29s 74ms/step - loss: 0.7982 - accuracy: 0.7204\n",
      "Epoch 41/50\n",
      "391/391 [==============================] - 29s 75ms/step - loss: 0.7849 - accuracy: 0.7247\n",
      "Epoch 42/50\n",
      "391/391 [==============================] - 30s 76ms/step - loss: 0.7750 - accuracy: 0.7284\n",
      "Epoch 43/50\n",
      "391/391 [==============================] - 31s 78ms/step - loss: 0.7630 - accuracy: 0.7290\n",
      "Epoch 44/50\n",
      "391/391 [==============================] - 29s 74ms/step - loss: 0.7560 - accuracy: 0.7360\n",
      "Epoch 45/50\n",
      "391/391 [==============================] - 29s 73ms/step - loss: 0.7450 - accuracy: 0.7393\n",
      "Epoch 46/50\n",
      "391/391 [==============================] - 29s 74ms/step - loss: 0.7347 - accuracy: 0.7407\n",
      "Epoch 47/50\n",
      "391/391 [==============================] - 29s 74ms/step - loss: 0.7236 - accuracy: 0.7445\n",
      "Epoch 48/50\n",
      "391/391 [==============================] - 29s 74ms/step - loss: 0.7124 - accuracy: 0.7494\n",
      "Epoch 49/50\n",
      "391/391 [==============================] - 29s 75ms/step - loss: 0.7026 - accuracy: 0.7526\n",
      "Epoch 50/50\n",
      "391/391 [==============================] - 29s 74ms/step - loss: 0.6948 - accuracy: 0.7563\n",
      " 10/313 [..............................] - ETA: 3s - loss: 0.7067 - accuracy: 0.7688"
     ]
    },
    {
     "name": "stderr",
     "output_type": "stream",
     "text": [
      "2022-12-07 12:35:25.880892: I tensorflow/core/grappler/optimizers/custom_graph_optimizer_registry.cc:114] Plugin optimizer for device_type GPU is enabled.\n"
     ]
    },
    {
     "name": "stdout",
     "output_type": "stream",
     "text": [
      "313/313 [==============================] - 4s 14ms/step - loss: 0.7264 - accuracy: 0.7424\n"
     ]
    },
    {
     "data": {
      "text/plain": [
       "[0.7264358997344971, 0.742400050163269]"
      ]
     },
     "execution_count": 23,
     "metadata": {},
     "output_type": "execute_result"
    }
   ],
   "source": [
    "sgd.compile(optimizer=opt,loss='categorical_crossentropy',metrics=['accuracy'])\n",
    "sgd.fit(X_train, y_train, epochs=50, batch_size=128)\n",
    "sgd.evaluate(x=X_test, y=y_test)"
   ]
  },
  {
   "cell_type": "markdown",
   "id": "bfab07b8",
   "metadata": {},
   "source": [
    "# PSO"
   ]
  },
  {
   "cell_type": "code",
   "execution_count": 27,
   "id": "f2075f07",
   "metadata": {},
   "outputs": [],
   "source": [
    "from hyperactive import Hyperactive\n",
    "from hyperactive.optimizers import ParticleSwarmOptimizer\n",
    "from keras.models import Sequential\n",
    "from sklearn.neighbors import KNeighborsClassifier\n",
    "from keras.layers import (\n",
    "    Dense,\n",
    "    Conv2D,\n",
    "    MaxPooling2D,\n",
    "    Flatten,\n",
    "    Dropout,\n",
    "    Activation,\n",
    ")\n",
    "from tensorflow.keras import optimizers"
   ]
  },
  {
   "cell_type": "code",
   "execution_count": 28,
   "id": "6260e7ce",
   "metadata": {},
   "outputs": [
    {
     "data": {
      "text/plain": [
       "(50000, 10)"
      ]
     },
     "execution_count": 28,
     "metadata": {},
     "output_type": "execute_result"
    }
   ],
   "source": [
    "y_train.shape"
   ]
  },
  {
   "cell_type": "code",
   "execution_count": 29,
   "id": "1fa05fcf",
   "metadata": {
    "scrolled": true
   },
   "outputs": [
    {
     "data": {
      "text/plain": [
       "(10000, 10)"
      ]
     },
     "execution_count": 29,
     "metadata": {},
     "output_type": "execute_result"
    }
   ],
   "source": [
    "y_test.shape"
   ]
  },
  {
   "cell_type": "code",
   "execution_count": 30,
   "id": "081b1dd0",
   "metadata": {},
   "outputs": [],
   "source": [
    "def model(opt):\n",
    "    nn = Sequential()\n",
    "    nn.add(Conv2D(opt[\"filter.0\"],(3, 3),padding=\"same\",input_shape=X_train.shape[1:],))\n",
    "    nn.add(Activation(\"relu\"))\n",
    "    nn.add(Conv2D(opt[\"filter.0\"], (3, 3)))\n",
    "    nn.add(Activation(\"relu\"))\n",
    "    nn.add(MaxPooling2D(pool_size=(2, 2)))\n",
    "    nn.add(Dropout(0.25))\n",
    "\n",
    "    nn.add(Conv2D(opt[\"filter.0\"], (3, 3), padding=\"same\"))\n",
    "    nn.add(Activation(\"relu\"))\n",
    "    nn.add(MaxPooling2D(pool_size=(2, 2)))\n",
    "    nn.add(Dropout(0.25))\n",
    "\n",
    "    nn.add(Flatten())\n",
    "    nn.add(Dense(opt[\"layer.0\"]))\n",
    "    nn.add(Activation(\"relu\"))\n",
    "    nn.add(Dropout(0.5))\n",
    "    nn.add(Dense(opt[\"layer.0\"]))\n",
    "    nn.add(Activation(\"relu\"))\n",
    "    nn.add(Dropout(0.5))\n",
    "    nn.add(Dense(10))\n",
    "    nn.add(Activation(\"softmax\"))\n",
    "\n",
    "    nn.compile(\n",
    "        optimizer=\"adam\", loss=\"categorical_crossentropy\", metrics=[\"accuracy\"]\n",
    "    )\n",
    "    nn.fit(X_train, y_train, epochs=50, batch_size=128)\n",
    "\n",
    "    _, score = nn.evaluate(x=X_test, y=y_test)\n",
    "\n",
    "    return score"
   ]
  },
  {
   "cell_type": "code",
   "execution_count": 31,
   "id": "328e294e",
   "metadata": {},
   "outputs": [
    {
     "name": "stderr",
     "output_type": "stream",
     "text": [
      "\r",
      "model:   0%|                                              | 0/1 [00:00<?, ?it/s]"
     ]
    },
    {
     "name": "stdout",
     "output_type": "stream",
     "text": [
      "Epoch 1/50\n"
     ]
    },
    {
     "name": "stderr",
     "output_type": "stream",
     "text": [
      "2022-12-07 12:43:19.818806: I tensorflow/core/grappler/optimizers/custom_graph_optimizer_registry.cc:114] Plugin optimizer for device_type GPU is enabled.\n"
     ]
    },
    {
     "name": "stdout",
     "output_type": "stream",
     "text": [
      "391/391 [==============================] - 34s 85ms/step - loss: 1.7315 - accuracy: 0.3558\n",
      "Epoch 2/50\n",
      "391/391 [==============================] - 33s 85ms/step - loss: 1.2339 - accuracy: 0.5577\n",
      "Epoch 3/50\n",
      "391/391 [==============================] - 33s 84ms/step - loss: 1.0407 - accuracy: 0.6350\n",
      "Epoch 4/50\n",
      "391/391 [==============================] - 33s 84ms/step - loss: 0.9210 - accuracy: 0.6796\n",
      "Epoch 5/50\n",
      "391/391 [==============================] - 33s 83ms/step - loss: 0.8417 - accuracy: 0.7074\n",
      "Epoch 6/50\n",
      "391/391 [==============================] - 33s 83ms/step - loss: 0.7784 - accuracy: 0.7281\n",
      "Epoch 7/50\n",
      "391/391 [==============================] - 33s 83ms/step - loss: 0.7264 - accuracy: 0.7456\n",
      "Epoch 8/50\n",
      "391/391 [==============================] - 33s 83ms/step - loss: 0.6919 - accuracy: 0.7590\n",
      "Epoch 9/50\n",
      "391/391 [==============================] - 33s 83ms/step - loss: 0.6570 - accuracy: 0.7708\n",
      "Epoch 10/50\n",
      "391/391 [==============================] - 33s 83ms/step - loss: 0.6300 - accuracy: 0.7787\n",
      "Epoch 11/50\n",
      "391/391 [==============================] - 33s 84ms/step - loss: 0.6019 - accuracy: 0.7897\n",
      "Epoch 12/50\n",
      "391/391 [==============================] - 35s 90ms/step - loss: 0.5729 - accuracy: 0.7991\n",
      "Epoch 13/50\n",
      "391/391 [==============================] - 36s 92ms/step - loss: 0.5506 - accuracy: 0.8063\n",
      "Epoch 14/50\n",
      "391/391 [==============================] - 35s 90ms/step - loss: 0.5310 - accuracy: 0.8127\n",
      "Epoch 15/50\n",
      "391/391 [==============================] - 35s 89ms/step - loss: 0.5094 - accuracy: 0.8214\n",
      "Epoch 16/50\n",
      "391/391 [==============================] - 35s 89ms/step - loss: 0.4963 - accuracy: 0.8242\n",
      "Epoch 17/50\n",
      "391/391 [==============================] - 34s 88ms/step - loss: 0.4775 - accuracy: 0.8317\n",
      "Epoch 18/50\n",
      "391/391 [==============================] - 35s 90ms/step - loss: 0.4582 - accuracy: 0.8393\n",
      "Epoch 19/50\n",
      "391/391 [==============================] - 35s 90ms/step - loss: 0.4516 - accuracy: 0.8398\n",
      "Epoch 20/50\n",
      "391/391 [==============================] - 35s 88ms/step - loss: 0.4367 - accuracy: 0.8461\n",
      "Epoch 21/50\n",
      "391/391 [==============================] - 35s 88ms/step - loss: 0.4253 - accuracy: 0.8500\n",
      "Epoch 22/50\n",
      "391/391 [==============================] - 34s 87ms/step - loss: 0.4189 - accuracy: 0.8525\n",
      "Epoch 23/50\n",
      "391/391 [==============================] - 34s 86ms/step - loss: 0.3973 - accuracy: 0.8591\n",
      "Epoch 24/50\n",
      "391/391 [==============================] - 34s 87ms/step - loss: 0.3871 - accuracy: 0.8620\n",
      "Epoch 25/50\n",
      "391/391 [==============================] - 35s 89ms/step - loss: 0.3815 - accuracy: 0.8662\n",
      "Epoch 26/50\n",
      "391/391 [==============================] - 35s 90ms/step - loss: 0.3728 - accuracy: 0.8685\n",
      "Epoch 27/50\n",
      "391/391 [==============================] - 34s 88ms/step - loss: 0.3632 - accuracy: 0.8727\n",
      "Epoch 28/50\n",
      "391/391 [==============================] - 34s 88ms/step - loss: 0.3572 - accuracy: 0.8752\n",
      "Epoch 29/50\n",
      "391/391 [==============================] - 35s 89ms/step - loss: 0.3485 - accuracy: 0.8781\n",
      "Epoch 30/50\n",
      "391/391 [==============================] - 36s 91ms/step - loss: 0.3416 - accuracy: 0.8808\n",
      "Epoch 31/50\n",
      "391/391 [==============================] - 37s 93ms/step - loss: 0.3363 - accuracy: 0.8802\n",
      "Epoch 32/50\n",
      "391/391 [==============================] - 37s 95ms/step - loss: 0.3358 - accuracy: 0.8811\n",
      "Epoch 33/50\n",
      "391/391 [==============================] - 37s 95ms/step - loss: 0.3294 - accuracy: 0.8843\n",
      "Epoch 34/50\n",
      "391/391 [==============================] - 35s 91ms/step - loss: 0.3158 - accuracy: 0.8891\n",
      "Epoch 35/50\n",
      "391/391 [==============================] - 36s 91ms/step - loss: 0.3157 - accuracy: 0.8888\n",
      "Epoch 36/50\n",
      "391/391 [==============================] - 37s 94ms/step - loss: 0.3016 - accuracy: 0.8941\n",
      "Epoch 37/50\n",
      "391/391 [==============================] - 38s 97ms/step - loss: 0.3016 - accuracy: 0.8942\n",
      "Epoch 38/50\n",
      "391/391 [==============================] - 38s 98ms/step - loss: 0.2985 - accuracy: 0.8948\n",
      "Epoch 39/50\n",
      "391/391 [==============================] - 39s 99ms/step - loss: 0.3031 - accuracy: 0.8952\n",
      "Epoch 40/50\n",
      "391/391 [==============================] - 39s 99ms/step - loss: 0.2940 - accuracy: 0.8984\n",
      "Epoch 41/50\n",
      "391/391 [==============================] - 217s 557ms/step - loss: 0.2823 - accuracy: 0.9011\n",
      "Epoch 42/50\n",
      "391/391 [==============================] - 33s 84ms/step - loss: 0.2808 - accuracy: 0.9032\n",
      "Epoch 43/50\n",
      "391/391 [==============================] - 33s 84ms/step - loss: 0.2808 - accuracy: 0.9020\n",
      "Epoch 44/50\n",
      "391/391 [==============================] - 33s 83ms/step - loss: 0.2707 - accuracy: 0.9040\n",
      "Epoch 45/50\n",
      "391/391 [==============================] - 33s 84ms/step - loss: 0.2721 - accuracy: 0.9058\n",
      "Epoch 46/50\n",
      "391/391 [==============================] - 33s 84ms/step - loss: 0.2665 - accuracy: 0.9080\n",
      "Epoch 47/50\n",
      "391/391 [==============================] - 33s 83ms/step - loss: 0.2686 - accuracy: 0.9076\n",
      "Epoch 48/50\n",
      "391/391 [==============================] - 33s 85ms/step - loss: 0.2585 - accuracy: 0.9090\n",
      "Epoch 49/50\n",
      "391/391 [==============================] - 35s 90ms/step - loss: 0.2597 - accuracy: 0.9097\n",
      "Epoch 50/50\n",
      "391/391 [==============================] - 36s 93ms/step - loss: 0.2513 - accuracy: 0.9133\n",
      "  5/313 [..............................] - ETA: 3s - loss: 0.5254 - accuracy: 0.8188  "
     ]
    },
    {
     "name": "stderr",
     "output_type": "stream",
     "text": [
      "2022-12-07 13:15:12.484890: I tensorflow/core/grappler/optimizers/custom_graph_optimizer_registry.cc:114] Plugin optimizer for device_type GPU is enabled.\n"
     ]
    },
    {
     "name": "stdout",
     "output_type": "stream",
     "text": [
      "313/313 [==============================] - 5s 14ms/step - loss: 0.7041 - accuracy: 0.7913\n"
     ]
    },
    {
     "name": "stderr",
     "output_type": "stream",
     "text": [
      "                                                                                "
     ]
    },
    {
     "name": "stdout",
     "output_type": "stream",
     "text": [
      "\n",
      "Results: 'model'  \n",
      "   Best score: 0.7913000583648682  \n",
      "   Best parameter set:\n",
      "      'filter.0' : 125  \n",
      "      'layer.0'  : 250  \n",
      "   Best iteration: 0  \n",
      " \n",
      "   Random seed: 336788398  \n",
      " \n",
      "   Evaluation time   : 1919.5838010311127 sec    [100.0 %]\n",
      "   Optimization time : 0.0074558258056640625 sec    [0.0 %]\n",
      "   Iteration time    : 1919.5912568569183 sec    [1919.59 sec/iter]\n",
      " \n"
     ]
    },
    {
     "name": "stderr",
     "output_type": "stream",
     "text": [
      "\r"
     ]
    }
   ],
   "source": [
    "search_space = {\n",
    "    \"filter.0\": [50,125,125],\n",
    "    \"layer.0\": [500,250],\n",
    "}\n",
    "\n",
    "\n",
    "\n",
    "\n",
    "\n",
    "optimizer = ParticleSwarmOptimizer(\n",
    "    inertia=0.4,\n",
    "    cognitive_weight=0.7,\n",
    "    social_weight=0.7,\n",
    "    temp_weight=0.3,\n",
    "    rand_rest_p=0.05,\n",
    ")\n",
    "\n",
    "hyper = Hyperactive()\n",
    "hyper.add_search(model, search_space, optimizer=optimizer, n_iter=1)\n",
    "hyper.run()"
   ]
  },
  {
   "cell_type": "markdown",
   "id": "d6c35af9",
   "metadata": {},
   "source": [
    "# CNN\n"
   ]
  },
  {
   "cell_type": "markdown",
   "id": "b85b6429",
   "metadata": {},
   "source": [
    "###  sequential model"
   ]
  },
  {
   "cell_type": "code",
   "execution_count": 11,
   "id": "d96c02ec",
   "metadata": {},
   "outputs": [],
   "source": [
    "from keras.models import Sequential"
   ]
  },
  {
   "cell_type": "code",
   "execution_count": 12,
   "id": "57246945",
   "metadata": {
    "scrolled": true
   },
   "outputs": [
    {
     "name": "stdout",
     "output_type": "stream",
     "text": [
      "Metal device set to: Apple M2\n"
     ]
    },
    {
     "name": "stderr",
     "output_type": "stream",
     "text": [
      "2022-12-07 13:55:21.387110: I tensorflow/core/common_runtime/pluggable_device/pluggable_device_factory.cc:306] Could not identify NUMA node of platform GPU ID 0, defaulting to 0. Your kernel may not have been built with NUMA support.\n",
      "2022-12-07 13:55:21.387670: I tensorflow/core/common_runtime/pluggable_device/pluggable_device_factory.cc:272] Created TensorFlow device (/job:localhost/replica:0/task:0/device:GPU:0 with 0 MB memory) -> physical PluggableDevice (device: 0, name: METAL, pci bus id: <undefined>)\n"
     ]
    }
   ],
   "source": [
    "v = Sequential()"
   ]
  },
  {
   "cell_type": "markdown",
   "id": "d48d4094",
   "metadata": {},
   "source": [
    "### convolutional layer"
   ]
  },
  {
   "cell_type": "code",
   "execution_count": 13,
   "id": "ac1dcc61",
   "metadata": {},
   "outputs": [],
   "source": [
    "ks = (3,3)\n",
    "st = (1,1)\n",
    "ish = (32,32,3)\n",
    "act = 'relu'\n",
    "pad = 'same'\n",
    "ps = (2,2)"
   ]
  },
  {
   "cell_type": "code",
   "execution_count": 14,
   "id": "bcf7621e",
   "metadata": {},
   "outputs": [],
   "source": [
    "v.add(Conv2D(50, kernel_size=ks, strides=st, padding=pad, activation=act, input_shape=ish))"
   ]
  },
  {
   "cell_type": "code",
   "execution_count": 15,
   "id": "39bef312",
   "metadata": {},
   "outputs": [],
   "source": [
    "v.add(Conv2D(125, kernel_size=ks, strides=st, padding=pad, activation=act))\n",
    "v.add(MaxPool2D(pool_size=ps))\n",
    "v.add(Dropout(0.25))"
   ]
  },
  {
   "cell_type": "code",
   "execution_count": 16,
   "id": "446d6d2b",
   "metadata": {},
   "outputs": [],
   "source": [
    "v.add(Conv2D(125, kernel_size=ks, strides=st, padding=pad, activation=act))\n",
    "v.add(MaxPool2D(pool_size=ps))\n",
    "v.add(Dropout(0.25))"
   ]
  },
  {
   "cell_type": "markdown",
   "id": "b047ffa0",
   "metadata": {},
   "source": [
    "### flatten output"
   ]
  },
  {
   "cell_type": "code",
   "execution_count": 17,
   "id": "af3c7eb0",
   "metadata": {},
   "outputs": [],
   "source": [
    "v.add(Flatten(input_shape=ish))"
   ]
  },
  {
   "cell_type": "markdown",
   "id": "5905f6a5",
   "metadata": {},
   "source": [
    "### hidden layer"
   ]
  },
  {
   "cell_type": "code",
   "execution_count": 18,
   "id": "277372d6",
   "metadata": {},
   "outputs": [],
   "source": [
    "v.add(Dense(500, act))\n",
    "v.add(Dropout(0.5))\n",
    "v.add(Dense(250, act))\n",
    "v.add(Dropout(0.5))"
   ]
  },
  {
   "cell_type": "markdown",
   "id": "88b6fb27",
   "metadata": {},
   "source": [
    "### output layer"
   ]
  },
  {
   "cell_type": "code",
   "execution_count": 19,
   "id": "b39c4093",
   "metadata": {},
   "outputs": [],
   "source": [
    "v.add(Dense(10, activation='softmax'))"
   ]
  },
  {
   "cell_type": "markdown",
   "id": "40e0532f",
   "metadata": {},
   "source": [
    "### compiling the  model"
   ]
  },
  {
   "cell_type": "code",
   "execution_count": 20,
   "id": "48ee6e5d",
   "metadata": {},
   "outputs": [],
   "source": [
    "v.compile(loss='categorical_crossentropy', metrics=['accuracy'], optimizer='adam')"
   ]
  },
  {
   "cell_type": "markdown",
   "id": "80416cfe",
   "metadata": {},
   "source": [
    "### training the model "
   ]
  },
  {
   "cell_type": "code",
   "execution_count": 21,
   "id": "04ba2533",
   "metadata": {},
   "outputs": [
    {
     "data": {
      "text/plain": [
       "(50000, 32, 32, 3)"
      ]
     },
     "execution_count": 21,
     "metadata": {},
     "output_type": "execute_result"
    }
   ],
   "source": [
    "X_train.shape"
   ]
  },
  {
   "cell_type": "code",
   "execution_count": 22,
   "id": "015e1874",
   "metadata": {},
   "outputs": [
    {
     "data": {
      "text/plain": [
       "(50000, 10)"
      ]
     },
     "execution_count": 22,
     "metadata": {},
     "output_type": "execute_result"
    }
   ],
   "source": [
    "y_train.shape"
   ]
  },
  {
   "cell_type": "code",
   "execution_count": 23,
   "id": "a92112a6",
   "metadata": {},
   "outputs": [
    {
     "data": {
      "text/plain": [
       "(10000, 32, 32, 3)"
      ]
     },
     "execution_count": 23,
     "metadata": {},
     "output_type": "execute_result"
    }
   ],
   "source": [
    "X_test.shape"
   ]
  },
  {
   "cell_type": "code",
   "execution_count": 24,
   "id": "a4aa15a5",
   "metadata": {},
   "outputs": [
    {
     "data": {
      "text/plain": [
       "(10000, 10)"
      ]
     },
     "execution_count": 24,
     "metadata": {},
     "output_type": "execute_result"
    }
   ],
   "source": [
    "y_test.shape"
   ]
  },
  {
   "cell_type": "code",
   "execution_count": 25,
   "id": "ea81acb7",
   "metadata": {},
   "outputs": [
    {
     "name": "stdout",
     "output_type": "stream",
     "text": [
      "Epoch 1/50\n"
     ]
    },
    {
     "name": "stderr",
     "output_type": "stream",
     "text": [
      "2022-12-07 13:55:41.714269: W tensorflow/core/platform/profile_utils/cpu_utils.cc:128] Failed to get CPU frequency: 0 Hz\n",
      "2022-12-07 13:55:41.888664: I tensorflow/core/grappler/optimizers/custom_graph_optimizer_registry.cc:114] Plugin optimizer for device_type GPU is enabled.\n"
     ]
    },
    {
     "name": "stdout",
     "output_type": "stream",
     "text": [
      "391/391 [==============================] - ETA: 0s - loss: 2.7294 - accuracy: 0.2275"
     ]
    },
    {
     "name": "stderr",
     "output_type": "stream",
     "text": [
      "2022-12-07 13:56:06.623424: I tensorflow/core/grappler/optimizers/custom_graph_optimizer_registry.cc:114] Plugin optimizer for device_type GPU is enabled.\n"
     ]
    },
    {
     "name": "stdout",
     "output_type": "stream",
     "text": [
      "391/391 [==============================] - 26s 67ms/step - loss: 2.7294 - accuracy: 0.2275 - val_loss: 1.7199 - val_accuracy: 0.3824\n",
      "Epoch 2/50\n",
      "391/391 [==============================] - 26s 67ms/step - loss: 1.6124 - accuracy: 0.4089 - val_loss: 1.3744 - val_accuracy: 0.4965\n",
      "Epoch 3/50\n",
      "391/391 [==============================] - 26s 67ms/step - loss: 1.3589 - accuracy: 0.5136 - val_loss: 1.1750 - val_accuracy: 0.5850\n",
      "Epoch 4/50\n",
      "391/391 [==============================] - 27s 69ms/step - loss: 1.2045 - accuracy: 0.5766 - val_loss: 1.0903 - val_accuracy: 0.6157\n",
      "Epoch 5/50\n",
      "391/391 [==============================] - 26s 67ms/step - loss: 1.0853 - accuracy: 0.6199 - val_loss: 1.0033 - val_accuracy: 0.6513\n",
      "Epoch 6/50\n",
      "391/391 [==============================] - 26s 67ms/step - loss: 1.0051 - accuracy: 0.6490 - val_loss: 0.9462 - val_accuracy: 0.6654\n",
      "Epoch 7/50\n",
      "391/391 [==============================] - 26s 67ms/step - loss: 0.9463 - accuracy: 0.6725 - val_loss: 0.9114 - val_accuracy: 0.6897\n",
      "Epoch 8/50\n",
      "391/391 [==============================] - 26s 67ms/step - loss: 0.8978 - accuracy: 0.6890 - val_loss: 0.8871 - val_accuracy: 0.6970\n",
      "Epoch 9/50\n",
      "391/391 [==============================] - 26s 67ms/step - loss: 0.8462 - accuracy: 0.7066 - val_loss: 0.8754 - val_accuracy: 0.6952\n",
      "Epoch 10/50\n",
      "391/391 [==============================] - 26s 67ms/step - loss: 0.8146 - accuracy: 0.7178 - val_loss: 0.8321 - val_accuracy: 0.7121\n",
      "Epoch 11/50\n",
      "391/391 [==============================] - 26s 67ms/step - loss: 0.7743 - accuracy: 0.7345 - val_loss: 0.7910 - val_accuracy: 0.7247\n",
      "Epoch 12/50\n",
      "391/391 [==============================] - 26s 67ms/step - loss: 0.7451 - accuracy: 0.7415 - val_loss: 0.7788 - val_accuracy: 0.7348\n",
      "Epoch 13/50\n",
      "391/391 [==============================] - 26s 67ms/step - loss: 0.7187 - accuracy: 0.7534 - val_loss: 0.7782 - val_accuracy: 0.7304\n",
      "Epoch 14/50\n",
      "391/391 [==============================] - 26s 67ms/step - loss: 0.6983 - accuracy: 0.7596 - val_loss: 0.7608 - val_accuracy: 0.7411\n",
      "Epoch 15/50\n",
      "391/391 [==============================] - 26s 67ms/step - loss: 0.6653 - accuracy: 0.7714 - val_loss: 0.7319 - val_accuracy: 0.7492\n",
      "Epoch 16/50\n",
      "391/391 [==============================] - 26s 67ms/step - loss: 0.6345 - accuracy: 0.7818 - val_loss: 0.7350 - val_accuracy: 0.7514\n",
      "Epoch 17/50\n",
      "391/391 [==============================] - 26s 67ms/step - loss: 0.6329 - accuracy: 0.7827 - val_loss: 0.7633 - val_accuracy: 0.7433\n",
      "Epoch 18/50\n",
      "391/391 [==============================] - 26s 67ms/step - loss: 0.5994 - accuracy: 0.7930 - val_loss: 0.7228 - val_accuracy: 0.7565\n",
      "Epoch 19/50\n",
      "391/391 [==============================] - 26s 67ms/step - loss: 0.5849 - accuracy: 0.8000 - val_loss: 0.7219 - val_accuracy: 0.7610\n",
      "Epoch 20/50\n",
      "391/391 [==============================] - 26s 67ms/step - loss: 0.5561 - accuracy: 0.8100 - val_loss: 0.7179 - val_accuracy: 0.7616\n",
      "Epoch 21/50\n",
      "391/391 [==============================] - 27s 68ms/step - loss: 0.5512 - accuracy: 0.8116 - val_loss: 0.7302 - val_accuracy: 0.7596\n",
      "Epoch 22/50\n",
      "391/391 [==============================] - 28s 70ms/step - loss: 0.5353 - accuracy: 0.8162 - val_loss: 0.7127 - val_accuracy: 0.7600\n",
      "Epoch 23/50\n",
      "391/391 [==============================] - 27s 70ms/step - loss: 0.5113 - accuracy: 0.8250 - val_loss: 0.7375 - val_accuracy: 0.7554\n",
      "Epoch 24/50\n",
      "391/391 [==============================] - 27s 70ms/step - loss: 0.5008 - accuracy: 0.8311 - val_loss: 0.7290 - val_accuracy: 0.7575\n",
      "Epoch 25/50\n",
      "391/391 [==============================] - 27s 70ms/step - loss: 0.5005 - accuracy: 0.8317 - val_loss: 0.6966 - val_accuracy: 0.7712\n",
      "Epoch 26/50\n",
      "391/391 [==============================] - 28s 71ms/step - loss: 0.4716 - accuracy: 0.8391 - val_loss: 0.7175 - val_accuracy: 0.7622\n",
      "Epoch 27/50\n",
      "391/391 [==============================] - 28s 72ms/step - loss: 0.4661 - accuracy: 0.8426 - val_loss: 0.6904 - val_accuracy: 0.7719\n",
      "Epoch 28/50\n",
      "391/391 [==============================] - 28s 71ms/step - loss: 0.4465 - accuracy: 0.8498 - val_loss: 0.7261 - val_accuracy: 0.7648\n",
      "Epoch 29/50\n",
      "391/391 [==============================] - 29s 74ms/step - loss: 0.4432 - accuracy: 0.8513 - val_loss: 0.7017 - val_accuracy: 0.7722\n",
      "Epoch 30/50\n",
      "391/391 [==============================] - 28s 72ms/step - loss: 0.4421 - accuracy: 0.8532 - val_loss: 0.6928 - val_accuracy: 0.7754\n",
      "Epoch 31/50\n",
      "391/391 [==============================] - 27s 70ms/step - loss: 0.4260 - accuracy: 0.8595 - val_loss: 0.7218 - val_accuracy: 0.7721\n",
      "Epoch 32/50\n",
      "391/391 [==============================] - 27s 68ms/step - loss: 0.4141 - accuracy: 0.8630 - val_loss: 0.7282 - val_accuracy: 0.7716\n",
      "Epoch 33/50\n",
      "391/391 [==============================] - 27s 70ms/step - loss: 0.4082 - accuracy: 0.8676 - val_loss: 0.7140 - val_accuracy: 0.7761\n",
      "Epoch 34/50\n",
      "391/391 [==============================] - 27s 69ms/step - loss: 0.4119 - accuracy: 0.8658 - val_loss: 0.7314 - val_accuracy: 0.7661\n",
      "Epoch 35/50\n",
      "391/391 [==============================] - 27s 70ms/step - loss: 0.3934 - accuracy: 0.8710 - val_loss: 0.7017 - val_accuracy: 0.7765\n",
      "Epoch 36/50\n",
      "391/391 [==============================] - 28s 71ms/step - loss: 0.3847 - accuracy: 0.8744 - val_loss: 0.7366 - val_accuracy: 0.7635\n",
      "Epoch 37/50\n",
      "391/391 [==============================] - 28s 72ms/step - loss: 0.3925 - accuracy: 0.8719 - val_loss: 0.7103 - val_accuracy: 0.7742\n",
      "Epoch 38/50\n",
      "391/391 [==============================] - 29s 74ms/step - loss: 0.3764 - accuracy: 0.8777 - val_loss: 0.7455 - val_accuracy: 0.7709\n",
      "Epoch 39/50\n",
      "391/391 [==============================] - 28s 73ms/step - loss: 0.3701 - accuracy: 0.8791 - val_loss: 0.7372 - val_accuracy: 0.7766\n",
      "Epoch 40/50\n",
      "391/391 [==============================] - 29s 73ms/step - loss: 0.3611 - accuracy: 0.8814 - val_loss: 0.7467 - val_accuracy: 0.7764\n",
      "Epoch 41/50\n",
      "391/391 [==============================] - 30s 76ms/step - loss: 0.3627 - accuracy: 0.8820 - val_loss: 0.7646 - val_accuracy: 0.7673\n",
      "Epoch 42/50\n",
      "391/391 [==============================] - 29s 75ms/step - loss: 0.3595 - accuracy: 0.8817 - val_loss: 0.7500 - val_accuracy: 0.7721\n",
      "Epoch 43/50\n",
      "391/391 [==============================] - 29s 75ms/step - loss: 0.3558 - accuracy: 0.8872 - val_loss: 0.7547 - val_accuracy: 0.7758\n",
      "Epoch 44/50\n",
      "391/391 [==============================] - 29s 75ms/step - loss: 0.3552 - accuracy: 0.8874 - val_loss: 0.7425 - val_accuracy: 0.7731\n",
      "Epoch 45/50\n",
      "391/391 [==============================] - 30s 76ms/step - loss: 0.3484 - accuracy: 0.8901 - val_loss: 0.7390 - val_accuracy: 0.7773\n",
      "Epoch 46/50\n",
      "391/391 [==============================] - 30s 75ms/step - loss: 0.3456 - accuracy: 0.8910 - val_loss: 0.7314 - val_accuracy: 0.7785\n",
      "Epoch 47/50\n",
      "391/391 [==============================] - 29s 75ms/step - loss: 0.3446 - accuracy: 0.8909 - val_loss: 0.7418 - val_accuracy: 0.7753\n",
      "Epoch 48/50\n",
      "391/391 [==============================] - 29s 74ms/step - loss: 0.3390 - accuracy: 0.8936 - val_loss: 0.7446 - val_accuracy: 0.7757\n",
      "Epoch 49/50\n",
      "391/391 [==============================] - 29s 74ms/step - loss: 0.3376 - accuracy: 0.8945 - val_loss: 0.7459 - val_accuracy: 0.7761\n",
      "Epoch 50/50\n",
      "391/391 [==============================] - 31s 79ms/step - loss: 0.3250 - accuracy: 0.8969 - val_loss: 0.7593 - val_accuracy: 0.7804\n"
     ]
    },
    {
     "data": {
      "text/plain": [
       "<keras.callbacks.History at 0x16c23ac40>"
      ]
     },
     "execution_count": 25,
     "metadata": {},
     "output_type": "execute_result"
    }
   ],
   "source": [
    "v.fit(X_train, y_train, batch_size=128, epochs=50, validation_data=(X_test, y_test))"
   ]
  },
  {
   "cell_type": "code",
   "execution_count": 26,
   "id": "3aefb68e",
   "metadata": {},
   "outputs": [
    {
     "data": {
      "text/plain": [
       "<AxesSubplot: >"
      ]
     },
     "execution_count": 26,
     "metadata": {},
     "output_type": "execute_result"
    },
    {
     "data": {
      "image/png": "[encoded data removed]",
      "text/plain": [
       "<Figure size 640x480 with 1 Axes>"
      ]
     },
     "metadata": {},
     "output_type": "display_data"
    }
   ],
   "source": [
    "import pandas as pd\n",
    "metrics = pd.DataFrame(v.history.history)\n",
    "metrics[[\"accuracy\", \"val_accuracy\"]].plot()"
   ]
  },
  {
   "cell_type": "markdown",
   "id": "7b6e8506",
   "metadata": {},
   "source": [
    "### Evaluating both the train  and test "
   ]
  },
  {
   "cell_type": "code",
   "execution_count": 27,
   "id": "7bfb6573",
   "metadata": {
    "scrolled": true
   },
   "outputs": [
    {
     "name": "stdout",
     "output_type": "stream",
     "text": [
      "1563/1563 [==============================] - 21s 13ms/step - loss: 0.0920 - accuracy: 0.9811\n"
     ]
    },
    {
     "data": {
      "text/plain": [
       "[0.09197115153074265, 0.9810800552368164]"
      ]
     },
     "execution_count": 27,
     "metadata": {},
     "output_type": "execute_result"
    }
   ],
   "source": [
    "v.evaluate(X_train, y_train)"
   ]
  },
  {
   "cell_type": "code",
   "execution_count": 28,
   "id": "d37e8d06",
   "metadata": {
    "scrolled": false
   },
   "outputs": [
    {
     "name": "stdout",
     "output_type": "stream",
     "text": [
      "313/313 [==============================] - 4s 13ms/step - loss: 0.7593 - accuracy: 0.7804\n"
     ]
    },
    {
     "data": {
      "text/plain": [
       "[0.7593227624893188, 0.7804000377655029]"
      ]
     },
     "execution_count": 28,
     "metadata": {},
     "output_type": "execute_result"
    }
   ],
   "source": [
    "v.evaluate(X_test, y_test)"
   ]
  },
  {
   "cell_type": "code",
   "execution_count": 33,
   "id": "3e3764bc",
   "metadata": {},
   "outputs": [
    {
     "name": "stdout",
     "output_type": "stream",
     "text": [
      "Model: \"sequential\"\n",
      "_________________________________________________________________\n",
      " Layer (type)                Output Shape              Param #   \n",
      "=================================================================\n",
      " conv2d (Conv2D)             (None, 32, 32, 50)        1400      \n",
      "                                                                 \n",
      " conv2d_1 (Conv2D)           (None, 32, 32, 125)       56375     \n",
      "                                                                 \n",
      " max_pooling2d (MaxPooling2D  (None, 16, 16, 125)      0         \n",
      " )                                                               \n",
      "                                                                 \n",
      " dropout (Dropout)           (None, 16, 16, 125)       0         \n",
      "                                                                 \n",
      " conv2d_2 (Conv2D)           (None, 16, 16, 125)       140750    \n",
      "                                                                 \n",
      " max_pooling2d_1 (MaxPooling  (None, 8, 8, 125)        0         \n",
      " 2D)                                                             \n",
      "                                                                 \n",
      " dropout_1 (Dropout)         (None, 8, 8, 125)         0         \n",
      "                                                                 \n",
      " flatten (Flatten)           (None, 8000)              0         \n",
      "                                                                 \n",
      " dense (Dense)               (None, 500)               4000500   \n",
      "                                                                 \n",
      " dropout_2 (Dropout)         (None, 500)               0         \n",
      "                                                                 \n",
      " dense_1 (Dense)             (None, 250)               125250    \n",
      "                                                                 \n",
      " dropout_3 (Dropout)         (None, 250)               0         \n",
      "                                                                 \n",
      " dense_2 (Dense)             (None, 10)                2510      \n",
      "                                                                 \n",
      "=================================================================\n",
      "Total params: 4,326,785\n",
      "Trainable params: 4,326,785\n",
      "Non-trainable params: 0\n",
      "_________________________________________________________________\n"
     ]
    }
   ],
   "source": [
    "v.summary()"
   ]
  }
 ],
 "metadata": {
  "kernelspec": {
   "display_name": "Python 3 (ipykernel)",
   "language": "python",
   "name": "python3"
  },
  "language_info": {
   "codemirror_mode": {
    "name": "ipython",
    "version": 3
   },
   "file_extension": ".py",
   "mimetype": "text/x-python",
   "name": "python",
   "nbconvert_exporter": "python",
   "pygments_lexer": "ipython3",
   "version": "3.9.15"
  }
 },
 "nbformat": 4,
 "nbformat_minor": 5
}
